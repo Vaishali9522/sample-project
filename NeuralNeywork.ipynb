{
  "nbformat": 4,
  "nbformat_minor": 0,
  "metadata": {
    "colab": {
      "name": "NeuralNeywork.ipynb",
      "provenance": [],
      "authorship_tag": "ABX9TyPfXhJfDWKBljP3qZRMf827",
      "include_colab_link": true
    },
    "kernelspec": {
      "name": "python3",
      "display_name": "Python 3"
    }
  },
  "cells": [
    {
      "cell_type": "markdown",
      "metadata": {
        "id": "view-in-github",
        "colab_type": "text"
      },
      "source": [
        "<a href=\"https://colab.research.google.com/github/Vaishali9522/sample-project/blob/master/NeuralNeywork.ipynb\" target=\"_parent\"><img src=\"https://colab.research.google.com/assets/colab-badge.svg\" alt=\"Open In Colab\"/></a>"
      ]
    },
    {
      "cell_type": "code",
      "metadata": {
        "id": "3YVCCFK972RH",
        "colab_type": "code",
        "colab": {}
      },
      "source": [
        "import numpy as np"
      ],
      "execution_count": 0,
      "outputs": []
    },
    {
      "cell_type": "code",
      "metadata": {
        "id": "9MOWsh-E7-kE",
        "colab_type": "code",
        "colab": {}
      },
      "source": [
        "nn_architecture = [\n",
        "                   {'input_dim': 400, 'output_dim': 4, 'activation': 'relu'},\n",
        "                   {'input_dim': 4, 'output_dim': 6, 'activation': 'relu'},\n",
        "                   {'input_dim': 6, 'output_dim': 6, 'activation': 'relu'},\n",
        "                   {'input_dim': 6, 'output_dim': 4, 'activation': 'relu'},\n",
        "                   {'input_dim': 4, 'output_dim': 1, 'activation': 'sigmoid'}\n",
        "]"
      ],
      "execution_count": 0,
      "outputs": []
    },
    {
      "cell_type": "code",
      "metadata": {
        "id": "eRo6W_Co9RP7",
        "colab_type": "code",
        "colab": {}
      },
      "source": [
        "def init_layers(nn_architecure, seed=0):\n",
        "  np.random.seed(seed)\n",
        "  number_of_layers = len(nn_architecture)\n",
        "  param_values = {}\n",
        "\n",
        "  for idx, layer in enumerate(nn_architecture):\n",
        "    layer_idx = idx + 1\n",
        "\n",
        "    layer_input_size = layer['input_dim']\n",
        "    layer_output_size = layer['output_dim']\n",
        "\n",
        "    param_values['W' + str(layer_idx)] = np.random.randn(layer_output_size, layer_input_size) * 0.1\n",
        "    param_values['b' + str(layer_idx)] = np.random.randn(layer_output_size, 1) * 0.1\n",
        "  \n",
        "  return param_values\n"
      ],
      "execution_count": 0,
      "outputs": []
    },
    {
      "cell_type": "code",
      "metadata": {
        "id": "SGbVejtAsU2W",
        "colab_type": "code",
        "colab": {}
      },
      "source": [
        "def sigmoid(Z):\n",
        "  return 1/(1 + np.exp(-Z))\n",
        "\n",
        "def relu(Z):\n",
        "  return np.maximum(0, Z)\n",
        "\n",
        "def sigmoid_backward(dA, Z):\n",
        "  sig = sigmoid(Z)\n",
        "  return dA * sig * (1 - sig)\n",
        "\n",
        "def relu_backward(dA, Z):\n",
        "  dZ = np.array(dA, copy=True)\n",
        "  dZ[Z <= 0] = 0\n",
        "  return dZ"
      ],
      "execution_count": 0,
      "outputs": []
    },
    {
      "cell_type": "code",
      "metadata": {
        "id": "Fs_fLfzay30w",
        "colab_type": "code",
        "colab": {}
      },
      "source": [
        "def single_layer_forward_propagation(A_prev, W_curr, b_curr, activation='relu'):\n",
        "  Z_curr = np.dot(W_curr, A_prev) + b_curr\n",
        "\n",
        "  if activation == 'relu':\n",
        "    activation_func = relu\n",
        "  elif activation == 'sigmoid':\n",
        "    activation_func = sigmoid\n",
        "  else:\n",
        "    raise Exception('Non supported activation function')\n",
        "  \n",
        "  return activation_func(Z_curr), Z_curr"
      ],
      "execution_count": 0,
      "outputs": []
    },
    {
      "cell_type": "code",
      "metadata": {
        "id": "Wh81CzJT0Q9J",
        "colab_type": "code",
        "colab": {}
      },
      "source": [
        "def full_forward_propagation(X, param_values, nn_architecture):\n",
        "  memory = {}\n",
        "  A_curr = X\n",
        "\n",
        "  for idx, layer in enumerate(nn_architecture):\n",
        "    layer_idx = idx + 1\n",
        "    A_prev = A_curr\n",
        "\n",
        "    activation_func_curr = layer['activation']\n",
        "    W_curr = param_values['W' + str(layer_idx)]\n",
        "    b_curr = param_values['b' + str(layer_idx)]\n",
        "\n",
        "    A_curr, Z_curr = single_layer_forward_propagation(A_prev, W_curr, b_curr, activation_func_curr)\n",
        "\n",
        "    memory['A' + str(idx)] = A_prev\n",
        "    memory['Z' + str(layer_idx)] = Z_curr\n",
        "  \n",
        "  return A_curr, memory"
      ],
      "execution_count": 0,
      "outputs": []
    },
    {
      "cell_type": "code",
      "metadata": {
        "id": "Ank2gIN75Ltj",
        "colab_type": "code",
        "colab": {}
      },
      "source": [
        "def get_cost_value(Y_hat, Y):\n",
        "    m = Y_hat.shape[1]\n",
        "    print(m)\n",
        "    print(Y_hat.shape, Y.shape)\n",
        "    cost = (1/m) * np.sum(-Y*np.log(Y_hat) - (1-Y)*np.log(1-Y_hat))\n",
        "    return np.squeeze(cost)\n"
      ],
      "execution_count": 0,
      "outputs": []
    },
    {
      "cell_type": "code",
      "metadata": {
        "id": "nB34z6_S5UCl",
        "colab_type": "code",
        "colab": {}
      },
      "source": [
        "def single_layer_backward_propagation(dA_curr, W_curr, b_curr, Z_curr, A_prev, activation=\"relu\"):\n",
        "    m = A_prev.shape[1]\n",
        "    \n",
        "    if activation is \"relu\":\n",
        "        backward_activation_func = relu_backward\n",
        "    elif activation is \"sigmoid\":\n",
        "        backward_activation_func = sigmoid_backward\n",
        "    else:\n",
        "        raise Exception('Non-supported activation function')\n",
        "    \n",
        "    dZ_curr = backward_activation_func(dA_curr, Z_curr)\n",
        "    dW_curr = np.dot(dZ_curr, A_prev.T) / m\n",
        "    db_curr = np.sum(dZ_curr, axis=1, keepdims=True) / m\n",
        "    dA_prev = np.dot(W_curr.T, dZ_curr)\n",
        "\n",
        "    return dA_prev, dW_curr, db_curr"
      ],
      "execution_count": 0,
      "outputs": []
    },
    {
      "cell_type": "code",
      "metadata": {
        "id": "JLJoIxX867zp",
        "colab_type": "code",
        "colab": {}
      },
      "source": [
        "def full_backward_propagation(Y_hat, Y, memory, param_values, nn_architecture):\n",
        "  grads_values = {}\n",
        "  m = Y.shape[1]\n",
        "  Y = Y.reshape(Y_hat.shape)\n",
        "  \n",
        "  dA_prev = - (np.divide(Y, Y_hat) - np.divide(1 - Y, 1 - Y_hat));\n",
        "  \n",
        "  for layer_idx_prev, layer in reversed(list(enumerate(nn_architecture))):\n",
        "      layer_idx_curr = layer_idx_prev + 1\n",
        "      activ_function_curr = layer[\"activation\"]\n",
        "      \n",
        "      dA_curr = dA_prev\n",
        "      \n",
        "      A_prev = memory[\"A\" + str(layer_idx_prev)]\n",
        "      Z_curr = memory[\"Z\" + str(layer_idx_curr)]\n",
        "      W_curr = params_values[\"W\" + str(layer_idx_curr)]\n",
        "      b_curr = params_values[\"b\" + str(layer_idx_curr)]\n",
        "      \n",
        "      dA_prev, dW_curr, db_curr = single_layer_backward_propagation(\n",
        "          dA_curr, W_curr, b_curr, Z_curr, A_prev, activ_function_curr)\n",
        "      \n",
        "      grads_values[\"dW\" + str(layer_idx_curr)] = dW_curr\n",
        "      grads_values[\"db\" + str(layer_idx_curr)] = db_curr\n",
        "  \n",
        "  return grads_values"
      ],
      "execution_count": 0,
      "outputs": []
    },
    {
      "cell_type": "code",
      "metadata": {
        "id": "MdAC13ILpzzN",
        "colab_type": "code",
        "colab": {}
      },
      "source": [
        "def update(params_values, grads_values, nn_architecture, learning_rate):\n",
        "    for layer_idx, layer in enumerate(nn_architecture):\n",
        "        params_values[\"W\" + str(layer_idx)] -= learning_rate * grads_values[\"dW\" + str(layer_idx)]        \n",
        "        params_values[\"b\" + str(layer_idx)] -= learning_rate * grads_values[\"db\" + str(layer_idx)]\n",
        "\n",
        "    return params_values"
      ],
      "execution_count": 0,
      "outputs": []
    },
    {
      "cell_type": "code",
      "metadata": {
        "id": "Dn1TBf8rtIm8",
        "colab_type": "code",
        "colab": {}
      },
      "source": [
        "def train(X, Y, nn_architecture, epochs, learning_rate):\n",
        "    params_values = init_layers(nn_architecture, 2)\n",
        "    cost_history = []\n",
        "    \n",
        "    for i in range(epochs):\n",
        "        Y_hat, cache = full_forward_propagation(X, params_values, nn_architecture)\n",
        "        cost = get_cost_value(Y_hat, Y)\n",
        "        cost_history.append(cost)\n",
        "        \n",
        "        \n",
        "        grads_values = full_backward_propagation(Y_hat, Y, cashe, params_values, nn_architecture)\n",
        "        params_values = update(params_values, grads_values, nn_architecture, learning_rate)\n",
        "        \n",
        "    return params_values, cost_history\n"
      ],
      "execution_count": 0,
      "outputs": []
    }
  ]
}